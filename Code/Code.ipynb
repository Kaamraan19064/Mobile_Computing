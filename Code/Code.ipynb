{
  "nbformat": 4,
  "nbformat_minor": 0,
  "metadata": {
    "colab": {
      "name": "Code2.ipynb",
      "provenance": [],
      "collapsed_sections": [],
      "machine_shape": "hm"
    },
    "kernelspec": {
      "name": "python3",
      "display_name": "Python 3"
    },
    "accelerator": "GPU"
  },
  "cells": [
    {
      "cell_type": "code",
      "metadata": {
        "id": "cZug5zqago91",
        "colab_type": "code",
        "outputId": "fbfa6e4d-27f3-4b2f-8c17-143bf11251d8",
        "colab": {
          "base_uri": "https://localhost:8080/",
          "height": 209
        }
      },
      "source": [
        "from google.colab import drive\n",
        "drive.mount('/content/drive')"
      ],
      "execution_count": 0,
      "outputs": [
        {
          "output_type": "stream",
          "text": [
            "Go to this URL in a browser: https://accounts.google.com/o/oauth2/auth?client_id=947318989803-6bn6qk8qdgf4n4g3pfee6491hc0brc4i.apps.googleusercontent.com&redirect_uri=urn%3aietf%3awg%3aoauth%3a2.0%3aoob&response_type=code&scope=email%20https%3a%2f%2fwww.googleapis.com%2fauth%2fdocs.test%20https%3a%2f%2fwww.googleapis.com%2fauth%2fdrive%20https%3a%2f%2fwww.googleapis.com%2fauth%2fdrive.photos.readonly%20https%3a%2f%2fwww.googleapis.com%2fauth%2fpeopleapi.readonly\n",
            "\n",
            "Enter your authorization code:\n",
            "··········\n",
            "Mounted at /content/drive\n"
          ],
          "name": "stdout"
        }
      ]
    },
    {
      "cell_type": "code",
      "metadata": {
        "id": "x-ymT0E59jEs",
        "colab_type": "code",
        "outputId": "e806bb48-1131-41a3-f6aa-3ed5c095f7f2",
        "colab": {
          "base_uri": "https://localhost:8080/",
          "height": 68
        }
      },
      "source": [
        "import nltk\n",
        "nltk.download('stopwords')"
      ],
      "execution_count": 0,
      "outputs": [
        {
          "output_type": "stream",
          "text": [
            "[nltk_data] Downloading package stopwords to /root/nltk_data...\n",
            "[nltk_data]   Unzipping corpora/stopwords.zip.\n"
          ],
          "name": "stdout"
        },
        {
          "output_type": "execute_result",
          "data": {
            "text/plain": [
              "True"
            ]
          },
          "metadata": {
            "tags": []
          },
          "execution_count": 2
        }
      ]
    },
    {
      "cell_type": "code",
      "metadata": {
        "id": "P7TzXc1Fcpps",
        "colab_type": "code",
        "colab": {}
      },
      "source": [
        "import numpy as np\n",
        "import pandas as pd\n",
        "import matplotlib.pyplot as plt\n",
        "from torch.utils.data import DataLoader, TensorDataset\n",
        "import os\n",
        "import glob\n",
        "from nltk.tokenize import word_tokenize\n",
        "from nltk.stem import WordNetLemmatizer\n",
        "import re\n",
        "from sklearn.linear_model import Ridge\n",
        "from sklearn.model_selection import train_test_split\n",
        "from sklearn.linear_model import Lasso\n",
        "import pickle\n",
        "from sklearn.model_selection import GridSearchCV\n",
        "from nltk.tokenize import sent_tokenize, word_tokenize\n",
        "from nltk.tokenize import word_tokenize\n",
        "import nltk\n",
        "import re\n",
        "import torch.nn as nn\n",
        "from bs4 import BeautifulSoup \n",
        "import torch\n",
        "import torch.nn as nn\n",
        "import torch.nn.functional as F\n",
        "import torch.optim as optim\n",
        "import torchvision\n",
        "from nltk.translate.bleu_score import sentence_bleu\n",
        "import nltk\n",
        "from nltk.corpus import stopwords\n",
        "import random\n",
        "from collections import Counter"
      ],
      "execution_count": 0,
      "outputs": []
    },
    {
      "cell_type": "code",
      "metadata": {
        "id": "vO7Xejn89ayN",
        "colab_type": "code",
        "outputId": "9324fe90-70c5-401e-8659-aacd436e0de6",
        "colab": {
          "base_uri": "https://localhost:8080/",
          "height": 102
        }
      },
      "source": [
        "stop_words = set(stopwords.words('english'))\n",
        "nltk.download('wordnet')\n",
        "nltk.download('punkt')"
      ],
      "execution_count": 0,
      "outputs": [
        {
          "output_type": "stream",
          "text": [
            "[nltk_data] Downloading package wordnet to /root/nltk_data...\n",
            "[nltk_data]   Package wordnet is already up-to-date!\n",
            "[nltk_data] Downloading package punkt to /root/nltk_data...\n",
            "[nltk_data]   Package punkt is already up-to-date!\n"
          ],
          "name": "stdout"
        },
        {
          "output_type": "execute_result",
          "data": {
            "text/plain": [
              "True"
            ]
          },
          "metadata": {
            "tags": []
          },
          "execution_count": 33
        }
      ]
    },
    {
      "cell_type": "code",
      "metadata": {
        "id": "b71ju1eyVbdA",
        "colab_type": "code",
        "colab": {}
      },
      "source": [
        "contraction_mapping = {\"ain't\": \"is not\", \"aren't\": \"are not\",\"can't\": \"cannot\", \"'cause\": \"because\", \"could've\": \"could have\", \"couldn't\": \"could not\",\n",
        "\n",
        "                           \"didn't\": \"did not\", \"doesn't\": \"does not\", \"don't\": \"do not\", \"hadn't\": \"had not\", \"hasn't\": \"has not\", \"haven't\": \"have not\",\n",
        "\n",
        "                           \"he'd\": \"he would\",\"he'll\": \"he will\", \"he's\": \"he is\", \"how'd\": \"how did\", \"how'd'y\": \"how do you\", \"how'll\": \"how will\", \"how's\": \"how is\",\n",
        "\n",
        "                           \"I'd\": \"I would\", \"I'd've\": \"I would have\", \"I'll\": \"I will\", \"I'll've\": \"I will have\",\"I'm\": \"I am\", \"I've\": \"I have\", \"i'd\": \"i would\",\n",
        "\n",
        "                           \"i'd've\": \"i would have\", \"i'll\": \"i will\",  \"i'll've\": \"i will have\",\"i'm\": \"i am\", \"i've\": \"i have\", \"isn't\": \"is not\", \"it'd\": \"it would\",\n",
        "\n",
        "                           \"it'd've\": \"it would have\", \"it'll\": \"it will\", \"it'll've\": \"it will have\",\"it's\": \"it is\", \"let's\": \"let us\", \"ma'am\": \"madam\",\n",
        "\n",
        "                           \"mayn't\": \"may not\", \"might've\": \"might have\",\"mightn't\": \"might not\",\"mightn't've\": \"might not have\", \"must've\": \"must have\",\n",
        "\n",
        "                           \"mustn't\": \"must not\", \"mustn't've\": \"must not have\", \"needn't\": \"need not\", \"needn't've\": \"need not have\",\"o'clock\": \"of the clock\",\n",
        "\n",
        "                           \"oughtn't\": \"ought not\", \"oughtn't've\": \"ought not have\", \"shan't\": \"shall not\", \"sha'n't\": \"shall not\", \"shan't've\": \"shall not have\",\n",
        "\n",
        "                           \"she'd\": \"she would\", \"she'd've\": \"she would have\", \"she'll\": \"she will\", \"she'll've\": \"she will have\", \"she's\": \"she is\",\n",
        "\n",
        "                           \"should've\": \"should have\", \"shouldn't\": \"should not\", \"shouldn't've\": \"should not have\", \"so've\": \"so have\",\"so's\": \"so as\",\n",
        "\n",
        "                           \"this's\": \"this is\",\"that'd\": \"that would\", \"that'd've\": \"that would have\", \"that's\": \"that is\", \"there'd\": \"there would\",\n",
        "\n",
        "                           \"there'd've\": \"there would have\", \"there's\": \"there is\", \"here's\": \"here is\",\"they'd\": \"they would\", \"they'd've\": \"they would have\",\n",
        "\n",
        "                           \"they'll\": \"they will\", \"they'll've\": \"they will have\", \"they're\": \"they are\", \"they've\": \"they have\", \"to've\": \"to have\",\n",
        "\n",
        "                           \"wasn't\": \"was not\", \"we'd\": \"we would\", \"we'd've\": \"we would have\", \"we'll\": \"we will\", \"we'll've\": \"we will have\", \"we're\": \"we are\",\n",
        "\n",
        "                           \"we've\": \"we have\", \"weren't\": \"were not\", \"what'll\": \"what will\", \"what'll've\": \"what will have\", \"what're\": \"what are\",\n",
        "\n",
        "                           \"what's\": \"what is\", \"what've\": \"what have\", \"when's\": \"when is\", \"when've\": \"when have\", \"where'd\": \"where did\", \"where's\": \"where is\",\n",
        "\n",
        "                           \"where've\": \"where have\", \"who'll\": \"who will\", \"who'll've\": \"who will have\", \"who's\": \"who is\", \"who've\": \"who have\",\n",
        "\n",
        "                           \"why's\": \"why is\", \"why've\": \"why have\", \"will've\": \"will have\", \"won't\": \"will not\", \"won't've\": \"will not have\",\n",
        "\n",
        "                           \"would've\": \"would have\", \"wouldn't\": \"would not\", \"wouldn't've\": \"would not have\", \"y'all\": \"you all\",\n",
        "\n",
        "                           \"y'all'd\": \"you all would\",\"y'all'd've\": \"you all would have\",\"y'all're\": \"you all are\",\"y'all've\": \"you all have\",\n",
        "\n",
        "                           \"you'd\": \"you would\", \"you'd've\": \"you would have\", \"you'll\": \"you will\", \"you'll've\": \"you will have\",\n",
        "\n",
        "                           \"you're\": \"you are\", \"you've\": \"you have\"}"
      ],
      "execution_count": 0,
      "outputs": []
    },
    {
      "cell_type": "code",
      "metadata": {
        "id": "-AHNleUgj9s9",
        "colab_type": "code",
        "outputId": "297dce1a-9ae4-48ed-80ba-aade77180817",
        "colab": {
          "base_uri": "https://localhost:8080/",
          "height": 91
        }
      },
      "source": [
        " def text_cleaner(text):\n",
        "    newString = text.lower()\n",
        "    newString = BeautifulSoup(newString, \"lxml\").text\n",
        "    newString = re.sub(r'\\([^)]*\\)', '', newString)\n",
        "    newString = re.sub('\"','', newString)\n",
        "    newString = ' '.join([contraction_mapping[t] if t in contraction_mapping else t for t in newString.split(\" \")])    \n",
        "    newString = re.sub(r\"'s\\b\",\"\",newString)\n",
        "    newString = re.sub(\"[^a-zA-Z]\", \" \", newString) \n",
        "    newString = word_tokenize(newString)\n",
        "    return newString\n",
        "    # soln_doc=[]\n",
        "    # for word in newString:\n",
        "    #   if word.lower() not in stop_words and word!='':\n",
        "    #     soln_doc.append(word.lower())\n",
        "    # return soln_doc\n",
        "   \n",
        "data=pd.read_csv(\"/content/articles.csv\", encoding='unicode_escape')\n",
        "cleaned_text = []\n",
        "for t in data['text']:\n",
        "    cleaned_text.append(text_cleaner(t))\n",
        "data['text']=cleaned_text\n",
        "cleaned_text = []\n",
        "for t in data['title']:\n",
        "    cleaned_text.append(text_cleaner(t))\n",
        "data['title']=cleaned_text\n",
        "print (data['text'][9])\n",
        "print (data['title'][9])\n",
        "title=data['title']\n",
        "content=data['text']"
      ],
      "execution_count": 0,
      "outputs": [
        {
          "output_type": "stream",
          "text": [
            "['over', 'the', 'past', 'months', 'i', 've', 'been', 'interviewing', 'at', 'various', 'companies', 'like', 'google', 's', 'deepmind', 'wadhwani', 'institute', 'of', 'ai', 'microsoft', 'ola', 'fractal', 'analytics', 'and', 'a', 'few', 'others', 'primarily', 'for', 'the', 'roles', 'data', 'scientist', 'software', 'engineer', 'research', 'engineer', 'in', 'the', 'process', 'not', 'only', 'did', 'i', 'get', 'an', 'opportunity', 'to', 'interact', 'with', 'many', 'great', 'minds', 'but', 'also', 'had', 'a', 'peek', 'at', 'myself', 'along', 'with', 'a', 'sense', 'of', 'what', 'people', 'really', 'look', 'for', 'when', 'interviewing', 'someone', 'i', 'believe', 'that', 'if', 'i', 'd', 'had', 'this', 'knowledge', 'before', 'i', 'could', 'have', 'avoided', 'many', 'mistakes', 'and', 'have', 'prepared', 'in', 'a', 'much', 'better', 'manner', 'which', 'is', 'what', 'the', 'motivation', 'behind', 'this', 'post', 'is', 'to', 'be', 'able', 'to', 'help', 'someone', 'bag', 'their', 'dream', 'place', 'of', 'work', 'this', 'post', 'arose', 'from', 'a', 'discussion', 'with', 'one', 'of', 'my', 'juniors', 'on', 'the', 'lack', 'of', 'really', 'fulfilling', 'job', 'opportunities', 'offered', 'through', 'campus', 'placements', 'for', 'people', 'working', 'in', 'ai', 'also', 'when', 'i', 'was', 'preparing', 'i', 'noticed', 'people', 'using', 'a', 'lot', 'of', 'resources', 'but', 'as', 'per', 'my', 'experience', 'over', 'the', 'past', 'months', 'i', 'realised', 'that', 'one', 'can', 'do', 'away', 'with', 'a', 'few', 'minimal', 'ones', 'for', 'most', 'roles', 'in', 'ai', 'all', 'of', 'which', 'i', 'm', 'going', 'to', 'mention', 'at', 'the', 'end', 'of', 'the', 'post', 'i', 'begin', 'with', 'how', 'to', 'get', 'noticed', 'a', 'k', 'a', 'the', 'interview', 'then', 'i', 'provide', 'a', 'list', 'of', 'companies', 'and', 'start', 'ups', 'to', 'apply', 'which', 'is', 'followed', 'by', 'how', 'to', 'ace', 'that', 'interview', 'based', 'on', 'whatever', 'experience', 'i', 've', 'had', 'i', 'add', 'a', 'section', 'on', 'what', 'we', 'should', 'strive', 'to', 'work', 'for', 'i', 'conclude', 'with', 'minimal', 'resources', 'you', 'need', 'for', 'preparation', 'note', 'for', 'people', 'who', 'are', 'sitting', 'for', 'campus', 'placements', 'there', 'are', 'two', 'things', 'i', 'd', 'like', 'to', 'add', 'firstly', 'most', 'of', 'what', 'i', 'm', 'going', 'to', 'say', 'is', 'not', 'going', 'to', 'be', 'relevant', 'to', 'you', 'for', 'placements', 'but', 'and', 'this', 'is', 'my', 'second', 'point', 'as', 'i', 'mentioned', 'before', 'opportunities', 'on', 'campus', 'are', 'mostly', 'in', 'software', 'engineering', 'roles', 'having', 'no', 'intersection', 'with', 'ai', 'so', 'this', 'post', 'is', 'specifically', 'meant', 'for', 'people', 'who', 'want', 'to', 'work', 'on', 'solving', 'interesting', 'problems', 'using', 'ai', 'also', 'i', 'want', 'to', 'add', 'that', 'i', 'haven', 't', 'cleared', 'all', 'of', 'these', 'interviews', 'but', 'i', 'guess', 'that', 's', 'the', 'essence', 'of', 'failure', 'it', 's', 'the', 'greatest', 'teacher', 'the', 'things', 'that', 'i', 'mention', 'here', 'may', 'not', 'all', 'be', 'useful', 'but', 'these', 'are', 'things', 'that', 'i', 'did', 'and', 'there', 's', 'no', 'way', 'for', 'me', 'to', 'know', 'what', 'might', 'have', 'ended', 'up', 'making', 'my', 'case', 'stronger', 'to', 'be', 'honest', 'this', 'step', 'is', 'the', 'most', 'important', 'one', 'what', 'makes', 'off', 'campus', 'placements', 'so', 'tough', 'and', 'exhausting', 'is', 'getting', 'the', 'recruiter', 'to', 'actually', 'go', 'through', 'your', 'profile', 'among', 'the', 'plethora', 'of', 'applications', 'that', 'they', 'get', 'having', 'a', 'contact', 'inside', 'the', 'organisation', 'place', 'a', 'referral', 'for', 'you', 'would', 'make', 'it', 'quite', 'easy', 'but', 'in', 'general', 'this', 'part', 'can', 'be', 'sub', 'divided', 'into', 'three', 'keys', 'steps', 'a', 'do', 'the', 'regulatory', 'preparation', 'and', 'do', 'that', 'well', 'so', 'with', 'regulatory', 'preparation', 'i', 'mean', 'a', 'linkedin', 'profile', 'a', 'github', 'profile', 'a', 'portfolio', 'website', 'and', 'a', 'well', 'polished', 'cv', 'firstly', 'your', 'cv', 'should', 'be', 'really', 'neat', 'and', 'concise', 'follow', 'this', 'guide', 'by', 'udacity', 'for', 'cleaning', 'up', 'your', 'cv', 'resume', 'revamp', 'it', 'has', 'everything', 'that', 'i', 'intend', 'to', 'say', 'and', 'i', 've', 'been', 'using', 'it', 'as', 'a', 'reference', 'guide', 'myself', 'as', 'for', 'the', 'cv', 'template', 'some', 'of', 'the', 'in', 'built', 'formats', 'on', 'overleaf', 'are', 'quite', 'nice', 'i', 'personally', 'use', 'deedy', 'resume', 'here', 's', 'a', 'preview', 'as', 'it', 'can', 'be', 'seen', 'a', 'lot', 'of', 'content', 'can', 'be', 'fit', 'into', 'one', 'page', 'however', 'if', 'you', 'really', 'do', 'need', 'more', 'than', 'that', 'then', 'the', 'format', 'linked', 'above', 'would', 'not', 'work', 'directly', 'instead', 'you', 'can', 'find', 'a', 'modified', 'multi', 'page', 'format', 'of', 'the', 'same', 'here', 'the', 'next', 'most', 'important', 'thing', 'to', 'mention', 'is', 'your', 'github', 'profile', 'a', 'lot', 'of', 'people', 'underestimate', 'the', 'potential', 'of', 'this', 'just', 'because', 'unlike', 'linkedin', 'it', 'doesn', 't', 'have', 'a', 'who', 'viewed', 'your', 'profile', 'option', 'people', 'do', 'go', 'through', 'your', 'github', 'because', 'that', 's', 'the', 'only', 'way', 'they', 'have', 'to', 'validate', 'what', 'you', 'have', 'mentioned', 'in', 'your', 'cv', 'given', 'that', 'there', 's', 'a', 'lot', 'of', 'noise', 'today', 'with', 'people', 'associating', 'all', 'kinds', 'of', 'buzzwords', 'with', 'their', 'profile', 'especially', 'for', 'data', 'science', 'open', 'source', 'has', 'a', 'big', 'role', 'to', 'play', 'too', 'with', 'majority', 'of', 'the', 'tools', 'implementations', 'of', 'various', 'algorithms', 'lists', 'of', 'learning', 'resources', 'all', 'being', 'open', 'sourced', 'i', 'discuss', 'the', 'benefits', 'of', 'getting', 'involved', 'in', 'open', 'source', 'and', 'how', 'one', 'can', 'start', 'from', 'scratch', 'in', 'an', 'earlier', 'post', 'here', 'the', 'bare', 'minimum', 'for', 'now', 'should', 'be', 'create', 'a', 'github', 'account', 'if', 'you', 'don', 't', 'already', 'have', 'one', 'create', 'a', 'repository', 'for', 'each', 'of', 'the', 'projects', 'that', 'you', 'have', 'done', 'add', 'documentation', 'with', 'clear', 'instructions', 'on', 'how', 'to', 'run', 'the', 'code', 'add', 'documentation', 'for', 'each', 'file', 'mentioning', 'the', 'role', 'of', 'each', 'function', 'the', 'meaning', 'of', 'each', 'parameter', 'proper', 'formatting', 'along', 'with', 'a', 'script', 'to', 'automate', 'the', 'previous', 'step', 'moving', 'on', 'the', 'third', 'step', 'is', 'what', 'most', 'people', 'lack', 'which', 'is', 'having', 'a', 'portfolio', 'website', 'demonstrating', 'their', 'experience', 'and', 'personal', 'projects', 'making', 'a', 'portfolio', 'indicates', 'that', 'you', 'are', 'really', 'serious', 'about', 'getting', 'into', 'the', 'field', 'and', 'adds', 'a', 'lot', 'of', 'points', 'to', 'the', 'authenticity', 'factor', 'also', 'you', 'generally', 'have', 'space', 'constraints', 'on', 'your', 'cv', 'and', 'tend', 'to', 'miss', 'out', 'on', 'a', 'lot', 'of', 'details', 'you', 'can', 'use', 'your', 'portfolio', 'to', 'really', 'delve', 'deep', 'into', 'the', 'details', 'if', 'you', 'want', 'to', 'and', 'it', 's', 'highly', 'recommended', 'to', 'include', 'some', 'sort', 'of', 'visualisation', 'or', 'demonstration', 'of', 'the', 'project', 'idea', 'it', 's', 'really', 'easy', 'to', 'create', 'one', 'too', 'as', 'there', 'are', 'a', 'lot', 'of', 'free', 'platforms', 'with', 'drag', 'and', 'drop', 'features', 'making', 'the', 'process', 'really', 'painless', 'i', 'personally', 'use', 'weebly', 'which', 'is', 'a', 'widely', 'used', 'tool', 'it', 's', 'better', 'to', 'have', 'a', 'reference', 'to', 'begin', 'with', 'there', 'are', 'a', 'lot', 'of', 'awesome', 'ones', 'out', 'there', 'but', 'i', 'referred', 'to', 'deshraj', 'yadav', 's', 'personal', 'website', 'to', 'begin', 'with', 'making', 'mine', 'finally', 'a', 'lot', 'of', 'recruiters', 'and', 'start', 'ups', 'have', 'nowadays', 'started', 'using', 'linkedin', 'as', 'their', 'go', 'to', 'platform', 'for', 'hiring', 'a', 'lot', 'of', 'good', 'jobs', 'get', 'posted', 'there', 'apart', 'from', 'recruiters', 'the', 'people', 'working', 'at', 'influential', 'positions', 'are', 'quite', 'active', 'there', 'as', 'well', 'so', 'if', 'you', 'can', 'grab', 'their', 'attention', 'you', 'have', 'a', 'good', 'chance', 'of', 'getting', 'in', 'too', 'apart', 'from', 'that', 'maintaining', 'a', 'clean', 'profile', 'is', 'necessary', 'for', 'people', 'to', 'have', 'the', 'will', 'to', 'connect', 'with', 'you', 'an', 'important', 'part', 'of', 'linkedin', 'is', 'their', 'search', 'tool', 'and', 'for', 'you', 'to', 'show', 'up', 'you', 'must', 'have', 'the', 'relevant', 'keywords', 'interspersed', 'over', 'your', 'profile', 'it', 'took', 'me', 'a', 'lot', 'of', 'iterations', 'and', 're', 'evaluations', 'to', 'finally', 'have', 'a', 'decent', 'one', 'also', 'you', 'should', 'definitely', 'ask', 'people', 'with', 'or', 'under', 'whom', 'you', 've', 'worked', 'with', 'to', 'endorse', 'you', 'for', 'your', 'skills', 'and', 'add', 'a', 'recommendation', 'talking', 'about', 'their', 'experience', 'of', 'working', 'with', 'you', 'all', 'of', 'this', 'increases', 'your', 'chance', 'of', 'actually', 'getting', 'noticed', 'i', 'll', 'again', 'point', 'towards', 'udacity', 's', 'guide', 'for', 'linkedin', 'and', 'github', 'profiles', 'all', 'this', 'might', 'seem', 'like', 'a', 'lot', 'but', 'remember', 'that', 'you', 'don', 't', 'need', 'to', 'do', 'it', 'in', 'a', 'single', 'day', 'or', 'even', 'a', 'week', 'or', 'a', 'month', 'it', 's', 'a', 'process', 'it', 'never', 'ends', 'setting', 'up', 'everything', 'at', 'first', 'would', 'definitely', 'take', 'some', 'effort', 'but', 'once', 'it', 's', 'there', 'and', 'you', 'keep', 'updating', 'it', 'regularly', 'as', 'events', 'around', 'you', 'keep', 'happening', 'you', 'll', 'not', 'only', 'find', 'it', 'to', 'be', 'quite', 'easy', 'but', 'also', 'you', 'll', 'be', 'able', 'to', 'talk', 'about', 'yourself', 'anywhere', 'anytime', 'without', 'having', 'to', 'explicitly', 'prepare', 'for', 'it', 'because', 'you', 'become', 'so', 'aware', 'about', 'yourself', 'b', 'stay', 'authentic', 'i', 've', 'seen', 'a', 'lot', 'of', 'people', 'do', 'this', 'mistake', 'of', 'presenting', 'themselves', 'as', 'per', 'different', 'job', 'profiles', 'according', 'to', 'me', 'it', 's', 'always', 'better', 'to', 'first', 'decide', 'what', 'actually', 'interests', 'you', 'what', 'would', 'you', 'be', 'happy', 'doing', 'and', 'then', 'search', 'for', 'relevant', 'opportunities', 'not', 'the', 'other', 'way', 'round', 'the', 'fact', 'that', 'the', 'demand', 'for', 'ai', 'talent', 'surpasses', 'the', 'supply', 'for', 'the', 'same', 'gives', 'you', 'this', 'opportunity', 'spending', 'time', 'on', 'your', 'regulatory', 'preparation', 'mentioned', 'above', 'would', 'give', 'you', 'an', 'all', 'around', 'perspective', 'on', 'yourself', 'and', 'help', 'make', 'this', 'decision', 'easier', 'also', 'you', 'won', 't', 'need', 'to', 'prepare', 'answers', 'to', 'various', 'kinds', 'of', 'questions', 'that', 'you', 'get', 'asked', 'during', 'an', 'interview', 'most', 'of', 'them', 'would', 'come', 'out', 'naturally', 'as', 'you', 'd', 'be', 'talking', 'about', 'something', 'you', 'really', 'care', 'about', 'c', 'networking', 'once', 'you', 're', 'done', 'with', 'a', 'figured', 'out', 'b', 'networking', 'is', 'what', 'will', 'actually', 'help', 'you', 'get', 'there', 'if', 'you', 'don', 't', 'talk', 'to', 'people', 'you', 'miss', 'out', 'on', 'hearing', 'about', 'many', 'opportunities', 'that', 'you', 'might', 'have', 'a', 'good', 'shot', 'at', 'it', 's', 'important', 'to', 'keep', 'connecting', 'with', 'new', 'people', 'each', 'day', 'if', 'not', 'physically', 'then', 'on', 'linkedin', 'so', 'that', 'upon', 'compounding', 'it', 'after', 'many', 'days', 'you', 'have', 'a', 'large', 'and', 'strong', 'network', 'networking', 'is', 'not', 'messaging', 'people', 'to', 'place', 'a', 'referral', 'for', 'you', 'when', 'i', 'was', 'starting', 'off', 'i', 'did', 'this', 'mistake', 'way', 'too', 'often', 'until', 'i', 'stumbled', 'upon', 'this', 'excellent', 'article', 'by', 'mark', 'meloon', 'where', 'he', 'talks', 'about', 'the', 'importance', 'of', 'building', 'a', 'real', 'connection', 'with', 'people', 'by', 'offering', 'our', 'help', 'first', 'another', 'important', 'step', 'in', 'networking', 'is', 'to', 'get', 'your', 'content', 'out', 'for', 'example', 'if', 'you', 're', 'good', 'at', 'something', 'blog', 'about', 'it', 'and', 'share', 'that', 'blog', 'on', 'facebook', 'and', 'linkedin', 'not', 'only', 'does', 'this', 'help', 'others', 'it', 'helps', 'you', 'as', 'well', 'once', 'you', 'have', 'a', 'good', 'enough', 'network', 'your', 'visibility', 'increases', 'multi', 'fold', 'you', 'never', 'know', 'how', 'one', 'person', 'from', 'your', 'network', 'liking', 'or', 'commenting', 'on', 'your', 'posts', 'may', 'help', 'you', 'reach', 'out', 'to', 'a', 'much', 'broader', 'audience', 'including', 'people', 'who', 'might', 'be', 'looking', 'for', 'someone', 'of', 'your', 'expertise', 'i', 'm', 'presenting', 'this', 'list', 'in', 'alphabetical', 'order', 'to', 'avoid', 'the', 'misinterpretation', 'of', 'any', 'specific', 'preference', 'however', 'i', 'do', 'place', 'a', 'on', 'the', 'ones', 'that', 'i', 'd', 'personally', 'recommend', 'this', 'recommendation', 'is', 'based', 'on', 'either', 'of', 'the', 'following', 'mission', 'statement', 'people', 'personal', 'interaction', 'or', 'scope', 'of', 'learning', 'more', 'than', 'is', 'purely', 'based', 'on', 'the', 'nd', 'and', 'rd', 'factors', 'your', 'interview', 'begins', 'the', 'moment', 'you', 'have', 'entered', 'the', 'room', 'and', 'a', 'lot', 'of', 'things', 'can', 'happen', 'between', 'that', 'moment', 'and', 'the', 'time', 'when', 'you', 're', 'asked', 'to', 'introduce', 'yourself', 'your', 'body', 'language', 'and', 'the', 'fact', 'that', 'you', 're', 'smiling', 'while', 'greeting', 'them', 'plays', 'a', 'big', 'role', 'especially', 'when', 'you', 're', 'interviewing', 'for', 'a', 'start', 'up', 'as', 'culture', 'fit', 'is', 'something', 'that', 'they', 'extremely', 'care', 'about', 'you', 'need', 'to', 'understand', 'that', 'as', 'much', 'as', 'the', 'interviewer', 'is', 'a', 'stranger', 'to', 'you', 'you', 're', 'a', 'stranger', 'to', 'him', 'her', 'too', 'so', 'they', 're', 'probably', 'just', 'as', 'nervous', 'as', 'you', 'are', 'it', 's', 'important', 'to', 'view', 'the', 'interview', 'as', 'more', 'of', 'a', 'conversation', 'between', 'yourself', 'and', 'the', 'interviewer', 'both', 'of', 'you', 'are', 'looking', 'for', 'a', 'mutual', 'fit', 'you', 'are', 'looking', 'for', 'an', 'awesome', 'place', 'to', 'work', 'at', 'and', 'the', 'interviewer', 'is', 'looking', 'for', 'an', 'awesome', 'person', 'to', 'work', 'with', 'so', 'make', 'sure', 'that', 'you', 're', 'feeling', 'good', 'about', 'yourself', 'and', 'that', 'you', 'take', 'the', 'charge', 'of', 'making', 'the', 'initial', 'moments', 'of', 'your', 'conversation', 'pleasant', 'for', 'them', 'and', 'the', 'easiest', 'way', 'i', 'know', 'how', 'to', 'make', 'that', 'happen', 'is', 'to', 'smile', 'there', 'are', 'mostly', 'two', 'types', 'of', 'interviews', 'one', 'where', 'the', 'interviewer', 'has', 'come', 'with', 'come', 'prepared', 'set', 'of', 'questions', 'and', 'is', 'going', 'to', 'just', 'ask', 'you', 'just', 'that', 'irrespective', 'of', 'your', 'profile', 'and', 'the', 'second', 'where', 'the', 'interview', 'is', 'based', 'on', 'your', 'cv', 'i', 'll', 'start', 'with', 'the', 'second', 'one', 'this', 'kind', 'of', 'interview', 'generally', 'begins', 'with', 'a', 'can', 'you', 'tell', 'me', 'a', 'bit', 'about', 'yourself', 'at', 'this', 'point', 'things', 'are', 'a', 'big', 'no', 'talking', 'about', 'your', 'gpa', 'in', 'college', 'and', 'talking', 'about', 'your', 'projects', 'in', 'detail', 'an', 'ideal', 'statement', 'should', 'be', 'about', 'a', 'minute', 'or', 'two', 'long', 'should', 'give', 'a', 'good', 'idea', 'on', 'what', 'have', 'you', 'been', 'doing', 'till', 'now', 'and', 'it', 's', 'not', 'restricted', 'to', 'academics', 'you', 'can', 'talk', 'about', 'your', 'hobbies', 'like', 'reading', 'books', 'playing', 'sports', 'meditation', 'etc', 'basically', 'anything', 'that', 'contributes', 'to', 'defining', 'you', 'the', 'interviewer', 'will', 'then', 'take', 'something', 'that', 'you', 'talk', 'about', 'here', 'as', 'a', 'cue', 'for', 'his', 'next', 'question', 'and', 'then', 'the', 'technical', 'part', 'of', 'the', 'interview', 'begins', 'the', 'motive', 'of', 'this', 'kind', 'of', 'interview', 'is', 'to', 'really', 'check', 'whether', 'whatever', 'you', 'have', 'written', 'on', 'your', 'cv', 'is', 'true', 'or', 'not', 'there', 'would', 'be', 'a', 'lot', 'of', 'questions', 'on', 'what', 'could', 'be', 'done', 'differently', 'or', 'if', 'x', 'was', 'used', 'instead', 'of', 'y', 'what', 'would', 'have', 'happened', 'at', 'this', 'point', 'it', 's', 'important', 'to', 'know', 'the', 'kind', 'of', 'trade', 'offs', 'that', 'is', 'usually', 'made', 'during', 'implementation', 'for', 'e', 'g', 'if', 'the', 'interviewer', 'says', 'that', 'using', 'a', 'more', 'complex', 'model', 'would', 'have', 'given', 'better', 'results', 'then', 'you', 'might', 'say', 'that', 'you', 'actually', 'had', 'less', 'data', 'to', 'work', 'with', 'and', 'that', 'would', 'have', 'lead', 'to', 'overfitting', 'in', 'one', 'of', 'the', 'interviews', 'i', 'was', 'given', 'a', 'case', 'study', 'to', 'work', 'on', 'and', 'it', 'involved', 'designing', 'algorithms', 'for', 'a', 'real', 'world', 'use', 'case', 'i', 've', 'noticed', 'that', 'once', 'i', 've', 'been', 'given', 'the', 'green', 'flag', 'to', 'talk', 'about', 'a', 'project', 'the', 'interviewers', 'really', 'like', 'it', 'when', 'i', 'talk', 'about', 'it', 'in', 'the', 'following', 'flow', 'problem', 'or', 'previous', 'approaches', 'our', 'approach', 'result', 'intuition', 'the', 'other', 'kind', 'of', 'interview', 'is', 'really', 'just', 'to', 'test', 'your', 'basic', 'knowledge', 'don', 't', 'expect', 'those', 'questions', 'to', 'be', 'too', 'hard', 'but', 'they', 'would', 'definitely', 'scratch', 'every', 'bit', 'of', 'the', 'basics', 'that', 'you', 'should', 'be', 'having', 'mainly', 'based', 'around', 'linear', 'algebra', 'probability', 'statistics', 'optimisation', 'machine', 'learning', 'and', 'or', 'deep', 'learning', 'the', 'resources', 'mentioned', 'in', 'the', 'minimal', 'resources', 'you', 'need', 'for', 'preparation', 'section', 'should', 'suffice', 'but', 'make', 'sure', 'that', 'you', 'don', 't', 'miss', 'out', 'one', 'bit', 'among', 'them', 'the', 'catch', 'here', 'is', 'the', 'amount', 'of', 'time', 'you', 'take', 'to', 'answer', 'those', 'questions', 'since', 'these', 'cover', 'the', 'basics', 'they', 'expect', 'that', 'you', 'should', 'be', 'answering', 'them', 'almost', 'instantly', 'so', 'do', 'your', 'preparation', 'accordingly', 'throughout', 'the', 'process', 'it', 's', 'important', 'to', 'be', 'confident', 'and', 'honest', 'about', 'what', 'you', 'know', 'and', 'what', 'you', 'don', 't', 'know', 'if', 'there', 's', 'a', 'question', 'that', 'you', 're', 'certain', 'you', 'have', 'no', 'idea', 'about', 'say', 'it', 'upfront', 'rather', 'than', 'making', 'aah', 'um', 'sounds', 'if', 'some', 'concept', 'is', 'really', 'important', 'but', 'you', 'are', 'struggling', 'with', 'answering', 'it', 'the', 'interviewer', 'would', 'generally', 'be', 'happy', 'to', 'give', 'you', 'a', 'hint', 'or', 'guide', 'you', 'towards', 'the', 'right', 'solution', 'it', 's', 'a', 'big', 'plus', 'if', 'you', 'manage', 'to', 'pick', 'their', 'hints', 'and', 'arrive', 'at', 'the', 'correct', 'solution', 'try', 'to', 'not', 'get', 'nervous', 'and', 'the', 'best', 'way', 'to', 'avoid', 'that', 'is', 'by', 'again', 'smiling', 'now', 'we', 'come', 'to', 'the', 'conclusion', 'of', 'the', 'interview', 'where', 'the', 'interviewer', 'would', 'ask', 'you', 'if', 'you', 'have', 'any', 'questions', 'for', 'them', 'it', 's', 'really', 'easy', 'to', 'think', 'that', 'your', 'interview', 'is', 'done', 'and', 'just', 'say', 'that', 'you', 'have', 'nothing', 'to', 'ask', 'i', 'know', 'many', 'people', 'who', 'got', 'rejected', 'just', 'because', 'of', 'failing', 'at', 'this', 'last', 'question', 'as', 'i', 'mentioned', 'before', 'it', 's', 'not', 'only', 'you', 'who', 'is', 'being', 'interviewed', 'you', 'are', 'also', 'looking', 'for', 'a', 'mutual', 'fit', 'with', 'the', 'company', 'itself', 'so', 'it', 's', 'quite', 'obvious', 'that', 'if', 'you', 'really', 'want', 'to', 'join', 'a', 'place', 'you', 'must', 'have', 'many', 'questions', 'regarding', 'the', 'work', 'culture', 'there', 'or', 'what', 'kind', 'of', 'role', 'are', 'they', 'seeing', 'you', 'in', 'it', 'can', 'be', 'as', 'simple', 'as', 'being', 'curious', 'about', 'the', 'person', 'interviewing', 'you', 'there', 's', 'always', 'something', 'to', 'learn', 'from', 'everything', 'around', 'you', 'and', 'you', 'should', 'make', 'sure', 'that', 'you', 'leave', 'the', 'interviewer', 'with', 'the', 'impression', 'that', 'you', 're', 'truly', 'interested', 'in', 'being', 'a', 'part', 'of', 'their', 'team', 'a', 'final', 'question', 'that', 'i', 've', 'started', 'asking', 'all', 'my', 'interviewers', 'is', 'for', 'a', 'feedback', 'on', 'what', 'they', 'might', 'want', 'me', 'to', 'improve', 'on', 'this', 'has', 'helped', 'me', 'tremendously', 'and', 'i', 'still', 'remember', 'every', 'feedback', 'that', 'i', 've', 'gotten', 'which', 'i', 've', 'incorporated', 'into', 'my', 'daily', 'life', 'that', 's', 'it', 'based', 'on', 'my', 'experience', 'if', 'you', 're', 'just', 'honest', 'about', 'yourself', 'are', 'competent', 'truly', 'care', 'about', 'the', 'company', 'you', 're', 'interviewing', 'for', 'and', 'have', 'the', 'right', 'mindset', 'you', 'should', 'have', 'ticked', 'all', 'the', 'right', 'boxes', 'and', 'should', 'be', 'getting', 'a', 'congratulatory', 'mail', 'soon', 'we', 'live', 'in', 'an', 'era', 'full', 'of', 'opportunities', 'and', 'that', 'applies', 'to', 'anything', 'that', 'you', 'love', 'you', 'just', 'need', 'to', 'strive', 'to', 'become', 'the', 'best', 'at', 'it', 'and', 'you', 'will', 'find', 'a', 'way', 'to', 'monetise', 'it', 'as', 'gary', 'vaynerchuk', 'says', 'this', 'is', 'a', 'great', 'time', 'to', 'be', 'working', 'in', 'ai', 'and', 'if', 'you', 're', 'truly', 'passionate', 'about', 'it', 'you', 'have', 'so', 'much', 'that', 'you', 'can', 'do', 'with', 'ai', 'you', 'can', 'empower', 'so', 'many', 'people', 'that', 'have', 'always', 'been', 'under', 'represented', 'we', 'keep', 'nagging', 'about', 'the', 'problems', 'surrounding', 'us', 'but', 'there', 's', 'been', 'never', 'such', 'a', 'time', 'where', 'common', 'people', 'like', 'us', 'can', 'actually', 'do', 'something', 'about', 'those', 'problems', 'rather', 'than', 'just', 'complaining', 'jeffrey', 'hammerbacher', 'had', 'famously', 'said', 'we', 'can', 'do', 'so', 'much', 'with', 'ai', 'than', 'we', 'can', 'ever', 'imagine', 'there', 'are', 'many', 'extremely', 'challenging', 'problems', 'out', 'there', 'which', 'require', 'incredibly', 'smart', 'people', 'like', 'you', 'to', 'put', 'your', 'head', 'down', 'on', 'and', 'solve', 'you', 'can', 'make', 'many', 'lives', 'better', 'time', 'to', 'let', 'go', 'of', 'what', 'is', 'cool', 'or', 'what', 'would', 'look', 'good', 'think', 'and', 'choose', 'wisely', 'any', 'data', 'science', 'interview', 'comprises', 'of', 'questions', 'mostly', 'of', 'a', 'subset', 'of', 'the', 'following', 'four', 'categories', 'computer', 'science', 'math', 'statistics', 'and', 'machine', 'learning', 'if', 'you', 're', 'not', 'familiar', 'with', 'the', 'math', 'behind', 'deep', 'learning', 'then', 'you', 'should', 'consider', 'going', 'over', 'my', 'last', 'post', 'for', 'resources', 'to', 'understand', 'them', 'however', 'if', 'you', 'are', 'comfortable', 'i', 've', 'found', 'that', 'the', 'chapters', 'and', 'of', 'the', 'deep', 'learning', 'book', 'are', 'enough', 'to', 'prepare', 'revise', 'for', 'theoretical', 'questions', 'during', 'such', 'interviews', 'i', 've', 'been', 'preparing', 'summaries', 'for', 'a', 'few', 'chapters', 'which', 'you', 'can', 'refer', 'to', 'where', 'i', 've', 'tried', 'to', 'even', 'explain', 'a', 'few', 'concepts', 'that', 'i', 'found', 'challenging', 'to', 'understand', 'at', 'first', 'in', 'case', 'you', 'are', 'not', 'willing', 'to', 'go', 'through', 'the', 'entire', 'chapters', 'and', 'if', 'you', 've', 'already', 'done', 'a', 'course', 'on', 'probability', 'you', 'should', 'be', 'comfortable', 'answering', 'a', 'few', 'numerical', 'as', 'well', 'for', 'stats', 'covering', 'these', 'topics', 'should', 'be', 'enough', 'now', 'the', 'range', 'of', 'questions', 'here', 'can', 'vary', 'depending', 'on', 'the', 'type', 'of', 'position', 'you', 'are', 'applying', 'for', 'if', 'it', 's', 'a', 'more', 'traditional', 'machine', 'learning', 'based', 'interview', 'where', 'they', 'want', 'to', 'check', 'your', 'basic', 'knowledge', 'in', 'ml', 'you', 'can', 'complete', 'any', 'one', 'of', 'the', 'following', 'courses', 'machine', 'learning', 'by', 'andrew', 'ng', 'cs', 'machine', 'learning', 'course', 'by', 'caltech', 'professor', 'yaser', 'abu', 'mostafa', 'important', 'topics', 'are', 'supervised', 'learning', 'unsupervised', 'learning', 'dimensionality', 'reduction', 'now', 'if', 'you', 're', 'applying', 'for', 'a', 'more', 'advanced', 'position', 'there', 's', 'a', 'high', 'chance', 'that', 'you', 'might', 'be', 'questioned', 'on', 'deep', 'learning', 'in', 'that', 'case', 'you', 'should', 'be', 'very', 'comfortable', 'with', 'convolutional', 'neural', 'networks', 'and', 'or', 'recurrent', 'neural', 'networks', 'and', 'their', 'variants', 'and', 'by', 'being', 'comfortable', 'you', 'must', 'know', 'what', 'is', 'the', 'fundamental', 'idea', 'behind', 'deep', 'learning', 'how', 'cnns', 'rnns', 'actually', 'worked', 'what', 'kind', 'of', 'architectures', 'have', 'been', 'proposed', 'and', 'what', 'has', 'been', 'the', 'motivation', 'behind', 'those', 'architectural', 'changes', 'now', 'there', 's', 'no', 'shortcut', 'for', 'this', 'either', 'you', 'understand', 'them', 'or', 'you', 'put', 'enough', 'time', 'to', 'understand', 'them', 'for', 'cnns', 'the', 'recommended', 'resource', 'is', 'stanford', 's', 'cs', 'n', 'and', 'cs', 'n', 'for', 'rnns', 'i', 'found', 'this', 'neural', 'network', 'class', 'by', 'hugo', 'larochelle', 'to', 'be', 'really', 'enlightening', 'too', 'refer', 'this', 'for', 'a', 'quick', 'refresher', 'too', 'udacity', 'coming', 'to', 'the', 'aid', 'here', 'too', 'by', 'now', 'you', 'should', 'have', 'figured', 'out', 'that', 'udacity', 'is', 'a', 'really', 'important', 'place', 'for', 'an', 'ml', 'practitioner', 'there', 'are', 'not', 'a', 'lot', 'of', 'places', 'working', 'on', 'reinforcement', 'learning', 'in', 'india', 'and', 'i', 'too', 'am', 'not', 'experienced', 'in', 'rl', 'as', 'of', 'now', 'so', 'that', 's', 'one', 'thing', 'to', 'add', 'to', 'this', 'post', 'sometime', 'in', 'the', 'future', 'getting', 'placed', 'off', 'campus', 'is', 'a', 'long', 'journey', 'of', 'self', 'realisation', 'i', 'realise', 'that', 'this', 'has', 'been', 'another', 'long', 'post', 'and', 'i', 'm', 'again', 'extremely', 'grateful', 'to', 'you', 'for', 'valuing', 'my', 'thoughts', 'i', 'hope', 'that', 'this', 'post', 'finds', 'a', 'way', 'of', 'being', 'useful', 'to', 'you', 'and', 'that', 'it', 'helped', 'you', 'in', 'some', 'way', 'to', 'prepare', 'for', 'your', 'next', 'data', 'science', 'interview', 'better', 'if', 'it', 'did', 'i', 'request', 'you', 'to', 'really', 'think', 'about', 'what', 'i', 'talk', 'about', 'in', 'what', 'we', 'should', 'strive', 'to', 'work', 'for', 'i', 'm', 'very', 'thankful', 'to', 'my', 'friends', 'from', 'iit', 'guwahati', 'for', 'their', 'helpful', 'feedback', 'especially', 'ameya', 'godbole', 'kothapalli', 'vignesh', 'and', 'prabal', 'jain', 'a', 'majority', 'of', 'what', 'i', 'mention', 'here', 'like', 'viewing', 'an', 'interview', 'as', 'a', 'conversation', 'and', 'seeking', 'feedback', 'from', 'our', 'interviewers', 'arose', 'from', 'multiple', 'discussions', 'with', 'prabal', 'who', 'has', 'been', 'advising', 'me', 'constantly', 'on', 'how', 'i', 'can', 'improve', 'my', 'interviewing', 'skills', 'this', 'story', 'is', 'published', 'in', 'noteworthy', 'where', 'thousands', 'come', 'every', 'day', 'to', 'learn', 'about', 'the', 'people', 'ideas', 'shaping', 'the', 'products', 'we', 'love', 'follow', 'our', 'publication', 'to', 'see', 'more', 'product', 'design', 'stories', 'featured', 'by', 'the', 'journal', 'team', 'from', 'a', 'quick', 'cheer', 'to', 'a', 'standing', 'ovation', 'clap', 'to', 'show', 'how', 'much', 'you', 'enjoyed', 'this', 'story', 'ai', 'fanatic', 'math', 'lover', 'dreamer', 'the', 'official', 'journal', 'blog']\n",
            "['what', 'i', 'learned', 'from', 'interviewing', 'at', 'multiple', 'ai', 'companies', 'and', 'start', 'ups']\n"
          ],
          "name": "stdout"
        }
      ]
    },
    {
      "cell_type": "code",
      "metadata": {
        "id": "7tPYjq2e9CIF",
        "colab_type": "code",
        "colab": {}
      },
      "source": [
        "def save_doc():\n",
        "    c = 0\n",
        "    data=[]\n",
        "    lmtz = WordNetLemmatizer()\n",
        "    docname_id_mapping = []\n",
        "    for name in glob.glob('/content/BBC News Summary/Summaries/business/*'):\n",
        "        for i in glob.glob(name):\n",
        "            with open(i) as file:\n",
        "                doc=[]\n",
        "                for line in file:\n",
        "                    doc += word_tokenize(line)\n",
        "                doc = [re.sub('[^A-Za-z]+', ' ', word) for word in doc]\n",
        "                doc = [word.split(' ') for word in doc if word != ' ']\n",
        "                soln_doc = []\n",
        "                for line in doc:\n",
        "                    for word in line:\n",
        "                        if word.lower() not in stop_words and word!='':\n",
        "                        # if word != '':\n",
        "                            soln_doc.append(word.lower())\n",
        "                soln_doc = [lmtz.lemmatize(word) for word in soln_doc]\n",
        "                data.append(soln_doc)\n",
        "                # docname_id_mapping.append(fil)\n",
        "            # print(c)\n",
        "            c += 1\n",
        "\n",
        "    with open('/content/drive/My Drive/IR Dataset/BBC_business_title.txt','wb') as fp:\n",
        "        pickle.dump(data,fp)"
      ],
      "execution_count": 0,
      "outputs": []
    },
    {
      "cell_type": "code",
      "metadata": {
        "id": "qlIuLQ6J9C2e",
        "colab_type": "code",
        "colab": {}
      },
      "source": [
        "save_doc()"
      ],
      "execution_count": 0,
      "outputs": []
    },
    {
      "cell_type": "code",
      "metadata": {
        "id": "4QTtuefXxWnZ",
        "colab_type": "code",
        "colab": {}
      },
      "source": [
        "with open('/content/drive/My Drive/IR Dataset/BBC_business_title.txt', 'rb') as fp:\n",
        "    title = pickle.load(fp)\n",
        "with open('/content/drive/My Drive/IR Dataset/BBC_business_content.txt', 'rb') as fp:\n",
        "    content = pickle.load(fp)\n"
      ],
      "execution_count": 0,
      "outputs": []
    },
    {
      "cell_type": "code",
      "metadata": {
        "id": "MxDV91BHWzho",
        "colab_type": "code",
        "outputId": "eb3cc4c8-2685-48c7-d98a-7446b048002b",
        "colab": {
          "base_uri": "https://localhost:8080/",
          "height": 148
        }
      },
      "source": [
        "!unzip '/content/drive/My Drive/IR Dataset/department-of-justice-20092018-press-releases.zip'\n",
        "!unzip '/content/drive/My Drive/IR Dataset/news-summary.zip'\n",
        "!unzip '/content/drive/My Drive/IR Dataset/medium-articles.zip'\n",
        "# !unzip '/content/drive/My Drive/IR Dataset/bbc-news-summary.zip'"
      ],
      "execution_count": 0,
      "outputs": [
        {
          "output_type": "stream",
          "text": [
            "Archive:  /content/drive/My Drive/IR Dataset/department-of-justice-20092018-press-releases.zip\n",
            "  inflating: combined.json           \n",
            "Archive:  /content/drive/My Drive/IR Dataset/news-summary.zip\n",
            "  inflating: news_summary.csv        \n",
            "  inflating: news_summary_more.csv   \n",
            "Archive:  /content/drive/My Drive/IR Dataset/medium-articles.zip\n",
            "  inflating: articles.csv            \n"
          ],
          "name": "stdout"
        }
      ]
    },
    {
      "cell_type": "code",
      "metadata": {
        "id": "Uw0tDiwt2L5u",
        "colab_type": "code",
        "colab": {}
      },
      "source": [
        "## For all data !!\n",
        "title=[]\n",
        "content=[]\n",
        "with open('/content/drive/My Drive/IR Dataset/BBC_business_title.txt', 'rb') as fp:\n",
        "    title = pickle.load(fp)\n",
        "title=title[:150]\n",
        "with open('/content/drive/My Drive/IR Dataset/BBC_business_content.txt', 'rb') as fp:\n",
        "    content = pickle.load(fp)\n",
        "content=content[:150]\n",
        "data=pd.read_csv(\"/content/articles.csv\", encoding='unicode_escape')\n",
        "c=0\n",
        "for t in data['title']:\n",
        "    c=c+1\n",
        "    title.append(text_cleaner(t))\n",
        "    if c==150:\n",
        "      break\n",
        "c=0\n",
        "for t in data['text']:\n",
        "    c=c+1\n",
        "    content.append(text_cleaner(t))\n",
        "    if c==150:\n",
        "      break\n",
        "data=pd.read_csv(\"/content/news_summary.csv\", encoding='unicode_escape')\n",
        "c=0\n",
        "for t in data['headlines']:\n",
        "    c=c+1\n",
        "    title.append(text_cleaner(t))  \n",
        "    if c==150:\n",
        "      break \n",
        "c=0\n",
        "for t in data['text']:\n",
        "    c=c+1\n",
        "    content.append(text_cleaner(t))\n",
        "    if c==150:\n",
        "      break \n",
        "data=pd.read_csv(\"/content/news_summary_more.csv\", encoding='unicode_escape')\n",
        "c=0\n",
        "for t in data['headlines']:\n",
        "    c=c+1\n",
        "    title.append(text_cleaner(t))\n",
        "    if c==150:\n",
        "      break \n",
        "c=0\n",
        "for t in data['text']:\n",
        "    c=c+1\n",
        "    content.append(text_cleaner(t))\n",
        "    if c==150:\n",
        "      break \n",
        "\n"
      ],
      "execution_count": 0,
      "outputs": []
    },
    {
      "cell_type": "code",
      "metadata": {
        "id": "HjO0V_zVr2Wp",
        "colab_type": "code",
        "colab": {}
      },
      "source": [
        "from gensim.models import KeyedVectors\n",
        "filename = '/content/drive/My Drive/DL/ASS2/Q2/GoogleNews-vectors-negative300.bin'\n",
        "md = KeyedVectors.load_word2vec_format(filename, binary=True,limit=25000)\n",
        "# md = read_word_embedding(filename)"
      ],
      "execution_count": 0,
      "outputs": []
    },
    {
      "cell_type": "code",
      "metadata": {
        "id": "SqczyPQaosU8",
        "colab_type": "code",
        "outputId": "37778a97-ac39-4e40-8875-06ea2dc05e04",
        "colab": {
          "base_uri": "https://localhost:8080/",
          "height": 108
        }
      },
      "source": [
        "md.similar_by_vector(md['word'])[0][0]"
      ],
      "execution_count": 0,
      "outputs": [
        {
          "output_type": "stream",
          "text": [
            "/usr/local/lib/python3.6/dist-packages/gensim/matutils.py:737: FutureWarning: Conversion of the second argument of issubdtype from `int` to `np.signedinteger` is deprecated. In future, it will be treated as `np.int64 == np.dtype(int).type`.\n",
            "  if np.issubdtype(vec.dtype, np.int):\n"
          ],
          "name": "stderr"
        },
        {
          "output_type": "execute_result",
          "data": {
            "text/plain": [
              "'word'"
            ]
          },
          "metadata": {
            "tags": []
          },
          "execution_count": 12
        }
      ]
    },
    {
      "cell_type": "code",
      "metadata": {
        "id": "vuk4P3d_EFMW",
        "colab_type": "code",
        "colab": {}
      },
      "source": [
        "def transform_data(data, length):\n",
        "        \n",
        "    train_x = [[] for i in range(len(data))]\n",
        "    for i in range(len(data)):\n",
        "    # print(i)\n",
        "        for word in data[i]:\n",
        "            if word not in md:\n",
        "                continue\n",
        "            trans_word = md[word]\n",
        "            train_x[i].append(trans_word.tolist())\n",
        "\n",
        "        train_x[i] = np.array(train_x[i])\n",
        "\n",
        "    z = np.zeros((length, 300), dtype=int)\n",
        "    for i in range(len(train_x)):\n",
        "        if train_x[i].shape[0] == 0:\n",
        "            train_x[i] = z\n",
        "\n",
        "    sequence_length = length\n",
        "    l = []\n",
        "    for i, review in enumerate(train_x):\n",
        "    # print(i)\n",
        "    # print(review.shape)\n",
        "        review_len=review.shape[0]\n",
        "        # print(review_len, sequence_length)\n",
        "        if (review_len<=sequence_length):\n",
        "            zeros=np.zeros((sequence_length-review_len, 300), dtype=int)\n",
        "            new=np.concatenate((review, zeros), axis=0)\n",
        "            # print(new)\n",
        "        else:\n",
        "            new=review[:sequence_length]\n",
        "        l.append(new)\n",
        "  # td[i]=np.array(new)\n",
        "  # print(td[i,:].shape, new.shape)\n",
        "  # print(i, td[i],\"NEw\", new)\n",
        "\n",
        "    train = np.array(l)\n",
        "    # label_encoder = preprocessing.LabelEncoder() \n",
        "    # y = label_encoder.fit_transform(data['sentiment']) \n",
        "\n",
        "    return train\n",
        "  "
      ],
      "execution_count": 0,
      "outputs": []
    },
    {
      "cell_type": "code",
      "metadata": {
        "id": "6eAZhHSbFj0o",
        "colab_type": "code",
        "outputId": "56fdd37e-7bd1-4cfa-98be-29c1da7c2761",
        "colab": {
          "base_uri": "https://localhost:8080/",
          "height": 34
        }
      },
      "source": [
        "content = transform_data(content, 200)\n",
        "title = transform_data(title, 20)\n",
        "content_train, content_test, title_train, title_test = train_test_split(content, title, test_size=0.2, random_state=35)\n",
        "print(len(content_train),len(title_train),len(title_test),len(content_test))"
      ],
      "execution_count": 0,
      "outputs": [
        {
          "output_type": "stream",
          "text": [
            "336 336 1 1\n"
          ],
          "name": "stdout"
        }
      ]
    },
    {
      "cell_type": "code",
      "metadata": {
        "id": "QECcUpNMKbfq",
        "colab_type": "code",
        "outputId": "383fdcd3-f886-4e83-ff18-118ecb615a77",
        "colab": {
          "base_uri": "https://localhost:8080/",
          "height": 34
        }
      },
      "source": [
        "is_cuda = torch.cuda.is_available()\n",
        "\n",
        "# If we have a GPU available, we'll set our device to GPU. We'll use this device variable later in our code.\n",
        "if is_cuda:\n",
        "    device = torch.device(\"cuda\")\n",
        "    print(\"GPU is available\")\n",
        "else:\n",
        "    device = torch.device(\"cpu\")\n",
        "    print(\"GPU not available, CPU used\")"
      ],
      "execution_count": 0,
      "outputs": [
        {
          "output_type": "stream",
          "text": [
            "GPU is available\n"
          ],
          "name": "stdout"
        }
      ]
    },
    {
      "cell_type": "code",
      "metadata": {
        "id": "51iqGY8gt0da",
        "colab_type": "code",
        "colab": {}
      },
      "source": [
        "class Encoder(nn.Module):\n",
        "    \"\"\"\n",
        "    The RNN model that will be used to perform Sentiment analysis.\n",
        "    \"\"\"\n",
        "    def __init__(self, embedding_dim, hidden_dim, n_layers, drop_prob=0.1):    \n",
        "        \"\"\"\n",
        "        Initialize the model by setting up the layers\n",
        "        \"\"\"\n",
        "        super().__init__()\n",
        "        self.n_layers=n_layers\n",
        "        self.hidden_dim=hidden_dim\n",
        "        # embedding_dim = embedding_dim.long()\n",
        "        # vocab_size = vocab_size.long()\n",
        "\n",
        "        #Embedding and LSTM layers\n",
        "        # self.embedding=nn.Embedding(vocab_size, embedding_dim)\n",
        "        self.lstm=nn.LSTM(embedding_dim, hidden_dim, n_layers, dropout=drop_prob, batch_first=True,bidirectional=True)\n",
        "        \n",
        "    def forward(self, x, hidden):\n",
        "        \"\"\"\n",
        "        Perform a forward pass of our model on some input and hidden state.\n",
        "        \"\"\"\n",
        "        batch_size=x.size()\n",
        "        \n",
        "        #Embadding and LSTM output\n",
        "        # x = x.long()\n",
        "        # print(x.shape)\n",
        "        # embedd=self.embedding(x)\n",
        "        lstm_out, hidden=self.lstm(x, hidden)\n",
        "        lstm_out=lstm_out.contiguous().view(lstm_out.shape[0], lstm_out.shape[1]*lstm_out.shape[2] )\n",
        "\n",
        "        return lstm_out, hidden\n",
        "    \n",
        "    def init_hidden(self, batch_size):\n",
        "        \"\"\"Initialize Hidden STATE\"\"\"\n",
        "        # Create two new tensors with sizes n_layers x batch_size x hidden_dim,\n",
        "        # initialized to zero, for hidden state and cell state of LSTM\n",
        "        weight = next(self.parameters()).data\n",
        "        \n",
        "        if (is_cuda):\n",
        "            \n",
        "            hidden = (weight.new(self.n_layers*2, batch_size, self.hidden_dim).zero_().cuda(),\n",
        "                  weight.new(self.n_layers*2, batch_size, self.hidden_dim).zero_().cuda())\n",
        "        else:\n",
        "            hidden = (weight.new(self.n_layers, batch_size, self.hidden_dim).zero_(),\n",
        "                      weight.new(self.n_layers, batch_size, self.hidden_dim).zero_())\n",
        "        \n",
        "        return hidden"
      ],
      "execution_count": 0,
      "outputs": []
    },
    {
      "cell_type": "code",
      "metadata": {
        "id": "vwkNj6z1t1Wo",
        "colab_type": "code",
        "outputId": "2f25e02a-85a3-494e-9820-6dd9d026ae28",
        "colab": {
          "base_uri": "https://localhost:8080/",
          "height": 68
        }
      },
      "source": [
        "embedding_dim = 300\n",
        "hidden_dim = 5\n",
        "n_layers = 2\n",
        "\n",
        "encoder = Encoder(embedding_dim, hidden_dim, n_layers)\n",
        "print(encoder)"
      ],
      "execution_count": 0,
      "outputs": [
        {
          "output_type": "stream",
          "text": [
            "Encoder(\n",
            "  (lstm): LSTM(300, 5, num_layers=2, batch_first=True, dropout=0.1, bidirectional=True)\n",
            ")\n"
          ],
          "name": "stdout"
        }
      ]
    },
    {
      "cell_type": "code",
      "metadata": {
        "id": "nicRb08fDly8",
        "colab_type": "code",
        "colab": {}
      },
      "source": [
        "class Decoder(nn.Module):\n",
        "    \"\"\"\n",
        "    The RNN model that will be used to perform Sentiment analysis.\n",
        "    \"\"\"\n",
        "    def __init__(self, vocab_size, output_size, embedding_dim, hidden_dim, n_layers, drop_prob=0.1):    \n",
        "        \"\"\"\n",
        "        Initialize the model by setting up the layers\n",
        "        \"\"\"\n",
        "        super().__init__()\n",
        "        self.output_size=output_size\n",
        "        self.n_layers=n_layers\n",
        "        self.hidden_dim=hidden_dim\n",
        "        \n",
        "        # embedding_dim = embedding_dim.long()\n",
        "        # vocab_size = vocab_size.long()\n",
        "\n",
        "        #Embedding and LSTM layers\n",
        "        self.embedding=nn.Embedding(vocab_size, embedding_dim)\n",
        "        self.lstm=nn.LSTM(embedding_dim, hidden_dim, n_layers, dropout=drop_prob, batch_first=True,bidirectional=True)\n",
        "        \n",
        "        #dropout layer\n",
        "        # self.dropout=nn.Dropout(0.2)\n",
        "        # self.dec_embedding=nn.Embedding(vocab_size, embedding_dim)\n",
        "        # self.dec_lstm=nn.LSTM(embedding_dim, hidden_dim, n_layers, dropout=drop_prob, batch_first=True)\n",
        "\n",
        "        #Linear and sigmoid layer\n",
        "        self.fc1=nn.Linear(20000, output_size*300)\n",
        "        # self.fc2=nn.Linear(64, output_size)\n",
        "        # self.fc3=nn.Linear(16,output_size)\n",
        "        # self.sigmoid=nn.Sigmoid()\n",
        "        \n",
        "    def forward(self, x, hidden):\n",
        "        \"\"\"\n",
        "        Perform a forward pass of our model on some input and hidden state.\n",
        "        \"\"\"\n",
        "        batch_size=x.size()\n",
        "        #Embadding and LSTM output\n",
        "        x = x.long()\n",
        "        # print(x.shape)\n",
        "        embedd=self.embedding(x)\n",
        "        # print(embedd.shape, x.shape)\n",
        "        lstm_out, hidden=self.lstm(embedd, hidden)\n",
        "\n",
        "        # lstm_out = lstm_out.long()\n",
        "        # dec_emb = self.dec_embedding(lstm_out)\n",
        "        # dec_out, dec_hid = self.dec_lstm(dec_emb, hidden)\n",
        "        # print(lstm_out.shape)\n",
        "        #stack up the lstm output\n",
        "        lstm_out=lstm_out.contiguous().view(lstm_out.shape[0], lstm_out.shape[1]*lstm_out.shape[2] )\n",
        "        \n",
        "        #dropout and fully connected layers\n",
        "        # out=self.dropout(lstm_out)\n",
        "        # print(lstm_out.shape)\n",
        "        out=self.fc1(lstm_out)\n",
        "        # print(out)\n",
        "        # out=self.dropout(out)\n",
        "        # out=self.fc2(out)\n",
        "        # out=self.dropout(out)\n",
        "        # out=self.fc3(out)\n",
        "        # out=self.sigmoid(out)\n",
        "        # print(sig_out.shape)\n",
        "        # sig_out=sig_out.view(50, -1)\n",
        "        # print(sig_out.shape)\n",
        "        # sig_out=sig_out[:, -1]\n",
        "        # print(sig_out.shape)\n",
        "\n",
        "        return out, hidden"
      ],
      "execution_count": 0,
      "outputs": []
    },
    {
      "cell_type": "code",
      "metadata": {
        "id": "_fRwtRGdDjQc",
        "colab_type": "code",
        "outputId": "3907c0dd-928d-4963-ac1a-7dfea9be6411",
        "colab": {
          "base_uri": "https://localhost:8080/",
          "height": 102
        }
      },
      "source": [
        "vocab_size = 300 # +1 for the 0 padding\n",
        "output_size = 20\n",
        "embedding_dim = 20\n",
        "hidden_dim = 5\n",
        "n_layers = 2\n",
        "\n",
        "decoder = Decoder(vocab_size, output_size, embedding_dim, hidden_dim, n_layers)\n",
        "print(decoder)"
      ],
      "execution_count": 0,
      "outputs": [
        {
          "output_type": "stream",
          "text": [
            "Decoder(\n",
            "  (embedding): Embedding(300, 20)\n",
            "  (lstm): LSTM(20, 5, num_layers=2, batch_first=True, dropout=0.1, bidirectional=True)\n",
            "  (fc1): Linear(in_features=20000, out_features=6000, bias=True)\n",
            ")\n"
          ],
          "name": "stdout"
        }
      ]
    },
    {
      "cell_type": "code",
      "metadata": {
        "id": "2M8oHDt_KbwK",
        "colab_type": "code",
        "colab": {}
      },
      "source": [
        "import warnings\n",
        "warnings.filterwarnings(\"ignore\")\n",
        "state_dict = torch.load('/content/drive/My Drive/IR_Models/sw_medium_news_encoder.pth')\n",
        "encoder.load_state_dict(state_dict)\n",
        "encoder.eval()\n",
        "state_dict = torch.load('/content/drive/My Drive/IR_Models/sw_medium_news_decoder.pth')\n",
        "decoder.load_state_dict(state_dict)\n",
        "decoder.eval()\n",
        "counter = 0\n",
        "batch_size = 4\n",
        "output_size = 20\n",
        "criterion = nn.L1Loss()\n",
        "enc_optimizer = torch.optim.Adam(encoder.parameters(), lr=0.001)\n",
        "dec_optimizer = torch.optim.Adam(decoder.parameters(), lr=0.001)\n",
        "\n",
        "encoder.cuda()\n",
        "decoder.cuda()\n",
        "encoder.train()\n",
        "decoder.train()\n",
        "\n",
        "# val_h = net.init_hidden(len(content_test))\n",
        "# val_inp = torch.FloatTensor(content_test[0])\n",
        "# val_inp = torch.stack([val_inp,torch.FloatTensor(content_test[1])],dim=0)\n",
        "# val_tar = torch.FloatTensor(valid_y)\n",
        "# # print(inp.shape,tar.shape, type(tar))\n",
        "# for j in range(2, len(content_test), 2):\n",
        "#     temp = torch.FloatTensor(content_test[j])\n",
        "#     temp = torch.stack([temp,torch.FloatTensor(content_test[j+1])],dim=0)\n",
        "#     val_inp = torch.cat([val_inp, temp], dim=0)\n",
        "    \n",
        "n_epochs = 150\n",
        "\n",
        "for epoch in range(1, n_epochs + 1):\n",
        "\n",
        "    tl = 0\n",
        "    correct = 0\n",
        "    h = encoder.init_hidden(batch_size)\n",
        "\n",
        "    for i in range(0, len(content_train), batch_size):\n",
        "        if(i+4>len(content_train)):\n",
        "          break\n",
        "\n",
        "        counter+=1\n",
        "\n",
        "        h = [each.data for each in h]\n",
        "\n",
        "        inp = torch.FloatTensor(content_train[i])\n",
        "        inp = torch.stack([inp,torch.FloatTensor(content_train[i+1])],dim=0)\n",
        "        tar = torch.FloatTensor(title_train[i:i+batch_size])\n",
        "        for j in range(i+2, i+batch_size, 2):\n",
        "            temp = torch.FloatTensor(content_train[j])\n",
        "            temp = torch.stack([temp,torch.FloatTensor(content_train[j+1])],dim=0)\n",
        "            inp = torch.cat([inp, temp], dim=0)\n",
        "\n",
        "        input_seq = torch.Tensor(inp).cuda()\n",
        "        target_seq = torch.Tensor(tar).cuda()\n",
        "\n",
        "        enc_optimizer.zero_grad()\n",
        "        dec_optimizer.zero_grad()\n",
        "\n",
        "        enc_output, enc_h = encoder(input_seq, h)\n",
        "        \n",
        "        output, h = decoder(enc_output, enc_h)\n",
        "        tar = tar.reshape(batch_size, tar.shape[1]*tar.shape[2])\n",
        "\n",
        "        if is_cuda:\n",
        "            output = output.cuda()\n",
        "            tar = tar.cuda()\n",
        "\n",
        "        loss = criterion(output, tar)\n",
        "        loss.backward()\n",
        "        enc_optimizer.step()\n",
        "        dec_optimizer.step()\n",
        "\n",
        "        output = output.cpu()\n",
        "        output = output.detach().numpy()\n",
        "        output = output.reshape(batch_size, output_size,300).tolist()\n",
        "\n",
        "        tar = tar.cpu()\n",
        "        tar = tar.detach().numpy()\n",
        "        tar = tar.reshape(batch_size,  output_size,300).tolist()\n",
        "\n",
        "        if(epoch % 50 == 0):\n",
        "          torch.save(encoder.state_dict(), '/content/drive/My Drive/IR_Models/sw_medium_news_encoder.pth')\n",
        "          torch.save(decoder.state_dict(), '/content/drive/My Drive/IR_Models/sw_medium_news_decoder.pth')\n",
        "\n",
        "            # for b in range(len(output)):\n",
        "            #     for wv in output[b]:\n",
        "            #         print(\"Prediction \",md.similar_by_vector(np.array(wv)))\n",
        "            #     for wv in tar[b]:\n",
        "            #         # print(wv,len(wv))\n",
        "            #         print(\"Actual \",md.similar_by_vector(np.array(wv)))\n",
        "            \n",
        "        print(epoch,i, loss.item())\n",
        "        \n",
        "\n"
      ],
      "execution_count": 0,
      "outputs": []
    },
    {
      "cell_type": "code",
      "metadata": {
        "id": "Fl3YQeWN8-AS",
        "colab_type": "code",
        "colab": {}
      },
      "source": [
        "import warnings\n",
        "warnings.filterwarnings(\"ignore\")\n",
        "state_dict = torch.load('/content/drive/My Drive/IR_Models/sw_medium_news_encoder.pth')\n",
        "encoder.load_state_dict(state_dict)\n",
        "encoder.eval()\n",
        "state_dict = torch.load('/content/drive/My Drive/IR_Models/sw_medium_news_decoder.pth')\n",
        "decoder.load_state_dict(state_dict)\n",
        "decoder.eval()\n",
        "batch_size=1\n",
        "\n",
        "encoder.cuda()\n",
        "decoder.cuda()\n",
        "\n",
        "# val_h = encoder.init_hidden(batch_size)\n",
        "# val_inp = torch.FloatTensor(content_train[0])\n",
        "# val_inp = torch.stack([val_inp,torch.FloatTensor(content_train[1])],dim=0)\n",
        "# val_tar = torch.FloatTensor(title_train)\n",
        "# # print(inp.shape,tar.shape, type(tar))\n",
        "# for j in range(2, len(content_train), 2):\n",
        "#     temp = torch.FloatTensor(content_train[j])\n",
        "#     temp = torch.stack([temp,torch.FloatTensor(content_train[j+1])],dim=0)\n",
        "#     val_inp = torch.cat([val_inp, temp], dim=0)\n",
        "\n",
        "bs = []\n",
        "dist = []\n",
        "cosin=[]\n",
        "h = encoder.init_hidden(batch_size)\n",
        "for i in range(0, len(content_test), batch_size):\n",
        "\n",
        "        # counter+=1\n",
        "        val_h = [each.data for each in h]\n",
        "\n",
        "        # inp = torch.FloatTensor(content_train[i])\n",
        "        # inp = torch.stack([inp,torch.FloatTensor(content_train[i+1])],dim=0)\n",
        "        # tar = torch.FloatTensor(title_train[i:i+batch_size])\n",
        "        # for j in range(i+2, i+batch_size, 2):\n",
        "        #     temp = torch.FloatTensor(content_train[j])\n",
        "        #     temp = torch.stack([temp,torch.FloatTensor(content_train[j+1])],dim=0)\n",
        "        #     inp = torch.cat([inp, temp], dim=0)\n",
        "\n",
        "        inp=content_test[i][np.newaxis,:,:]\n",
        "        # print(inp.shape)\n",
        "        tar=title_test[i][np.newaxis,:,:]\n",
        "\n",
        "        input_seq = torch.Tensor(inp).cuda()\n",
        "        target_seq = torch.Tensor(tar).cuda()\n",
        "\n",
        "        # enc_optimizer.zero_grad()\n",
        "        # dec_optimizer.zero_grad()\n",
        "\n",
        "        enc_output, enc_h = encoder(input_seq, val_h)\n",
        "        \n",
        "        output, h = decoder(enc_output, enc_h)\n",
        "        # tar = tar.reshape(batch_size, tar.shape[1]*tar.shape[2])\n",
        "\n",
        "        # if is_cuda:\n",
        "        #     output = output.cuda()\n",
        "        #     tar = tar.cuda()\n",
        "\n",
        "        # loss = criterion(output, tar)\n",
        "        # loss.backward()\n",
        "        # enc_optimizer.step()\n",
        "        # dec_optimizer.step()\n",
        "\n",
        "        output = output.cpu()\n",
        "        output = output.detach().numpy()\n",
        "        output = output.reshape(batch_size, output_size,300).tolist()\n",
        "\n",
        "        # tar = tar.cpu()\n",
        "        # tar = tar.detach().numpy()\n",
        "        tar = tar.reshape(batch_size,  output_size,300).tolist()\n",
        "\n",
        "        y_pred = []\n",
        "        y_true = []\n",
        "        predict=\"\"\n",
        "        actual=\"\"\n",
        "        for b in range(len(output)):\n",
        "            for wv in output[b]:\n",
        "                # print(\"Prediction \",md.similar_by_vector(np.array(wv))[0][0])\n",
        "                if(md.similar_by_vector(np.array(wv))[0][1]>0.35):\n",
        "                  y_pred.append(md.similar_by_vector(np.array(wv))[0][0])\n",
        "                  predict=predict+md.similar_by_vector(np.array(wv))[0][0]+\" \"\n",
        "                else:\n",
        "                  break\n",
        "            for wv in tar[b]:\n",
        "              if(md.similar_by_vector(np.array(wv))[0][1]>0.35):\n",
        "                y_true.append(md.similar_by_vector(np.array(wv))[0][0])\n",
        "                actual=actual+md.similar_by_vector(np.array(wv))[0][0]+\" \"\n",
        "              else:\n",
        "                break\n",
        "            if len(y_true)==0 or len(y_pred)==0 :\n",
        "                continue\n",
        "            bs.append(sentence_bleu([y_pred],y_true,weights=[1]))\n",
        "            dist.append(md.wv.n_similarity(y_true, y_pred))\n",
        "            cosin.append(cosine(y_pred,y_true))\n",
        "\n",
        "            print(\"actual: \",actual)\n",
        "            print(\"predicted: \",predict)\n",
        "            print(\"bLUE :\",sentence_bleu([y_pred],y_true,weights=[1]),\"distance:\",md.wv.n_similarity(y_true, y_pred),\"cosine:\",cosine(y_pred,y_true))\n",
        "            print()\n",
        "\n",
        "print(\"BS avg = \", (sum(bs)/len(bs)), \"Dist avg = \", (sum(dist)/len(dist)),\"Cosine Avg = \",(sum(cosin)/len(cosin)))"
      ],
      "execution_count": 0,
      "outputs": []
    },
    {
      "cell_type": "code",
      "metadata": {
        "id": "R4zI_QVl3eYb",
        "colab_type": "code",
        "colab": {}
      },
      "source": [
        "def cosine(pred,actual):\n",
        "    t1=[]\n",
        "    t2=[]\n",
        "    counter = Counter(pred)\n",
        "    for j in actual:\n",
        "        c=counter[j]\n",
        "        t1.append(c)\n",
        "    counter = Counter(actual)\n",
        "    for j in actual:\n",
        "        c=counter[j]\n",
        "        t2.append(c)\n",
        "    if np.linalg.norm(t1)>0:\n",
        "        cos_sim = np.dot(t2, t1)/(np.linalg.norm(t2)*np.linalg.norm(t1))\n",
        "    else:\n",
        "        cos_sim=0\n",
        "    return cos_sim"
      ],
      "execution_count": 0,
      "outputs": []
    },
    {
      "cell_type": "code",
      "metadata": {
        "id": "tBoMpIKdmk1V",
        "colab_type": "code",
        "colab": {}
      },
      "source": [
        "torch.save(encoder.state_dict(), '/content/drive/My Drive/IR_Models/sw_medium_news_encoder.pth')\n",
        "torch.save(decoder.state_dict(), '/content/drive/My Drive/IR_Models/sw_medium_news_decoder.pth')"
      ],
      "execution_count": 0,
      "outputs": []
    },
    {
      "cell_type": "code",
      "metadata": {
        "id": "BmI4jKqF5pM7",
        "colab_type": "code",
        "colab": {}
      },
      "source": [
        "title1=[]\n",
        "title2=[]\n",
        "title3=[]\n",
        "title4=[]\n",
        "data=pd.read_csv(\"/content/articles.csv\", encoding='unicode_escape')\n",
        "for t in data['title']:\n",
        "    title1.append(text_cleaner(t))\n",
        "vocab=[w for txt in title1 for w in txt]\n",
        "c = Counter(vocab)\n",
        "title1=[]\n",
        "for i in c.most_common(200):\n",
        "  title1.append(i[0])\n",
        "data=pd.read_csv(\"/content/news_summary.csv\", encoding='unicode_escape')\n",
        "for t in data['headlines']:\n",
        "    title2.append(text_cleaner(t))   \n",
        "vocab=[w for txt in title2 for w in txt]\n",
        "c = Counter(vocab)\n",
        "title2=[]\n",
        "for i in c.most_common(200):\n",
        "  title2.append(i[0])\n",
        "data=pd.read_csv(\"/content/news_summary_more.csv\", encoding='unicode_escape')\n",
        "for t in data['headlines']:\n",
        "    title3.append(text_cleaner(t))\n",
        "vocab=[w for txt in title3 for w in txt]\n",
        "c = Counter(vocab)\n",
        "title3=[]\n",
        "for i in c.most_common(200):\n",
        "  title3.append(i[0])\n",
        "with open('/content/drive/My Drive/IR Dataset/BBC_business_title.txt', 'rb') as fp:\n",
        "    title4 = pickle.load(fp)\n",
        "vocab=[w for txt in title4 for w in txt]\n",
        "c = Counter(vocab)\n",
        "title4=[]\n",
        "for i in c.most_common(200):\n",
        "  title4.append(i[0])\n"
      ],
      "execution_count": 0,
      "outputs": []
    },
    {
      "cell_type": "code",
      "metadata": {
        "id": "4rclexDb5z7L",
        "colab_type": "code",
        "colab": {}
      },
      "source": [
        "print(len(title1),len(title2),len(title3),len(title4))\n",
        "ls1=[]\n",
        "ls2=[]\n",
        "ls3=[]\n",
        "ls4=[]\n",
        "for word in title1:\n",
        "    if word not in md:\n",
        "        continue\n",
        "    trans_word = md[word]\n",
        "    ls1.append(trans_word.tolist())\n",
        "for word in title2:\n",
        "    if word not in md:\n",
        "        continue\n",
        "    trans_word = md[word]\n",
        "    ls2.append(trans_word.tolist())\n",
        "for word in title3:\n",
        "    if word not in md:\n",
        "        continue\n",
        "    trans_word = md[word]\n",
        "    ls3.append(trans_word.tolist())\n",
        "for word in title4:\n",
        "    if word not in md:\n",
        "        continue\n",
        "    trans_word = md[word]\n",
        "    ls4.append(trans_word.tolist())\n",
        "\n",
        "\n",
        "ls1 = np.array(ls1)\n",
        "ls2 = np.array(ls2)\n",
        "ls3 = np.array(ls3)\n",
        "ls4 = np.array(ls4)"
      ],
      "execution_count": 0,
      "outputs": []
    },
    {
      "cell_type": "code",
      "metadata": {
        "id": "bRMdsUa6cJu_",
        "colab_type": "code",
        "outputId": "fb68250c-1443-4eff-ee49-6bbdbb346cf1",
        "colab": {
          "base_uri": "https://localhost:8080/",
          "height": 281
        }
      },
      "source": [
        "from sklearn.manifold import TSNE\n",
        "import matplotlib.pyplot as plt\n",
        "tsne = TSNE(n_components=2, random_state=0)\n",
        "\n",
        "feature = []\n",
        "labels = []\n",
        "\n",
        "for i in ls1:\n",
        "    feature.append(i)\n",
        "    labels.append(0)\n",
        "for i in ls2:\n",
        "    feature.append(i)\n",
        "    labels.append(1)\n",
        "for i in ls3:\n",
        "    feature.append(i)\n",
        "    labels.append(2)\n",
        "for i in ls4:\n",
        "    feature.append(i)\n",
        "    labels.append(3)\n",
        "\n",
        "\n",
        "transformed_data = tsne.fit_transform(np.array(feature))\n",
        "k = np.array(transformed_data)\n",
        "plt.scatter(k[:, 0], k[:, 1], c=labels, s=60, alpha=0.8,label=\"Violet-Medium, Aqua-All News,Yellow-Law, Green-BBC Business\")\n",
        "plt.title(\"Data\")\n",
        "plt.legend()\n",
        "plt.grid(True)\n",
        "plt.show()"
      ],
      "execution_count": 0,
      "outputs": [
        {
          "output_type": "display_data",
          "data": {
            "image/png": "[encoded data removed]",
            "text/plain": [
              "<Figure size 432x288 with 1 Axes>"
            ]
          },
          "metadata": {
            "tags": [],
            "needs_background": "light"
          }
        }
      ]
    },
    {
      "cell_type": "code",
      "metadata": {
        "id": "ASkMFI1DO9aC",
        "colab_type": "code",
        "colab": {}
      },
      "source": [
        "import matplotlib.pyplot as plt\n",
        "import numpy as np\n",
        "import matplotlib.pyplot as plt\n",
        "\n",
        "def Bar_graph(a,b,c,d,e,f,g,h,i,j,k,l,m,n,o,p,q,r,s,t):\n",
        "    barWidth = 0.1\n",
        "    bars1 = [a,b,c,d]\n",
        "    bars2 = [e,f,g,h]\n",
        "    bars3=[i,j,k,l]\n",
        "    bars4=[m,n,o,p]\n",
        "    bars5=[q,r,s,t]\n",
        "    # bars4=[d,h,l]\n",
        "    r1 = np.arange(len(bars1))\n",
        "    r2 = [x + barWidth for x in r1]\n",
        "    r3=[x + barWidth for x in r2]\n",
        "    r4=[x + barWidth for x in r3]\n",
        "    r5=[x + barWidth for x in r4]\n",
        "    plt.bar(r1, bars1, width = barWidth, color = 'blue', edgecolor = 'black',  capsize=5,label='Spacy')\n",
        "    plt.bar(r2, bars2, width = barWidth, color = 'cyan', edgecolor = 'black',capsize=5, label='Vanilla RNN')\n",
        "    plt.bar(r3, bars3, width = barWidth, color = 'green', edgecolor = 'black',  capsize=5,label='LSTM')\n",
        "    plt.bar(r4, bars4, width = barWidth, color = 'orange', edgecolor = 'black',  capsize=7,label='LSTM with BS')\n",
        "    plt.bar(r5, bars5, width = barWidth, color = 'red', edgecolor = 'black',  capsize=7,label='LSTM with Attn')\n",
        "    plt.xticks([r + barWidth for r in range(len(bars1))], [ 'Medium Tech ','BBC Business  ','Law Data','News Summary'])\n",
        "    # plt.xticks([r + barWidth for r in range(len(bars1))], ['NB with TF-IDF', 'KNN with TF-IDF','NB with MI','KNN with MI'])\n",
        "\n",
        "    plt.ylabel('Distance Similarity')\n",
        "    plt.xlabel('Datasets')\n",
        "    # \n",
        "    # plt.legend(loc='upper left', frameon=False)\n",
        "    # loc='best'\n",
        "    # bbox_to_anchor=(0.5, 0.5,0.5, 0.5, 0.5)\n",
        "    plt.legend(loc='center left', bbox_to_anchor=(1, 0.5))\n",
        "    # plt.legend()\n",
        "    plt.title(\"Distance Similarity for different models on differen datasets\")\n",
        "    plt.show()"
      ],
      "execution_count": 0,
      "outputs": []
    }
  ]
}